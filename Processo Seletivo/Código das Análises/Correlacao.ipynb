{
 "cells": [
  {
   "cell_type": "markdown",
   "metadata": {},
   "source": [
    "**Correlação entre as Despesas Pagas para o Ensino Fundamental e os Indicadores Educacionais**"
   ]
  },
  {
   "cell_type": "code",
   "execution_count": 12,
   "metadata": {},
   "outputs": [],
   "source": [
    "import pandas as pd\n",
    "import seaborn as sns"
   ]
  },
  {
   "cell_type": "code",
   "execution_count": 13,
   "metadata": {},
   "outputs": [
    {
     "name": "stderr",
     "output_type": "stream",
     "text": [
      "c:\\Users\\tiago\\AppData\\Local\\Programs\\Python\\Python39\\lib\\site-packages\\IPython\\core\\interactiveshell.py:3135: DtypeWarning: Columns (3) have mixed types.Specify dtype option on import or set low_memory=False.\n",
      "  has_raised = await self.run_ast_nodes(code_ast.body, cell_name,\n"
     ]
    },
    {
     "data": {
      "text/html": [
       "<div>\n",
       "<style scoped>\n",
       "    .dataframe tbody tr th:only-of-type {\n",
       "        vertical-align: middle;\n",
       "    }\n",
       "\n",
       "    .dataframe tbody tr th {\n",
       "        vertical-align: top;\n",
       "    }\n",
       "\n",
       "    .dataframe thead th {\n",
       "        text-align: right;\n",
       "    }\n",
       "</style>\n",
       "<table border=\"1\" class=\"dataframe\">\n",
       "  <thead>\n",
       "    <tr style=\"text-align: right;\">\n",
       "      <th></th>\n",
       "      <th>ano</th>\n",
       "      <th>valor</th>\n",
       "    </tr>\n",
       "  </thead>\n",
       "  <tbody>\n",
       "    <tr>\n",
       "      <th>0</th>\n",
       "      <td>2013</td>\n",
       "      <td>2.700569e+09</td>\n",
       "    </tr>\n",
       "    <tr>\n",
       "      <th>1</th>\n",
       "      <td>2015</td>\n",
       "      <td>3.120392e+09</td>\n",
       "    </tr>\n",
       "    <tr>\n",
       "      <th>2</th>\n",
       "      <td>2017</td>\n",
       "      <td>3.190383e+09</td>\n",
       "    </tr>\n",
       "    <tr>\n",
       "      <th>3</th>\n",
       "      <td>2019</td>\n",
       "      <td>3.657024e+09</td>\n",
       "    </tr>\n",
       "  </tbody>\n",
       "</table>\n",
       "</div>"
      ],
      "text/plain": [
       "    ano         valor\n",
       "0  2013  2.700569e+09\n",
       "1  2015  3.120392e+09\n",
       "2  2017  3.190383e+09\n",
       "3  2019  3.657024e+09"
      ]
     },
     "execution_count": 13,
     "metadata": {},
     "output_type": "execute_result"
    }
   ],
   "source": [
    "#filtro a tabela da Siconfi para o Rio e para as Despesas Pagas no Ensino Fundamental\n",
    "#filtro também o ano para corresponder com os anos da outra tabela\n",
    "\n",
    "siconfi=pd.read_csv('siconfi.csv')\n",
    "\n",
    "siconfi_rio_ef=siconfi[siconfi['id_municipio']==3304557]\n",
    "siconfi_rio_ef=siconfi_rio_ef[(siconfi_rio_ef['estagio']=='Despesas Pagas') & (siconfi_rio_ef['conta']=='Ensino Fundamental')]\n",
    "siconfi_rio_ef=siconfi_rio_ef[(siconfi_rio_ef['ano']<=2019) & (siconfi_rio_ef['ano']%2!=0)]\n",
    "\n",
    "colunas=['ano', 'valor']\n",
    "\n",
    "siconfi_rio_ef=siconfi_rio_ef[colunas]\n",
    "\n",
    "siconfi_rio_ef=siconfi_rio_ef.dropna(axis=0)\n",
    "\n",
    "siconfi_rio_ef=siconfi_rio_ef.reset_index()\n",
    "\n",
    "siconfi_rio_ef=siconfi_rio_ef.drop(['index'], 1)\n",
    "\n",
    "siconfi_rio_ef"
   ]
  },
  {
   "cell_type": "code",
   "execution_count": 14,
   "metadata": {},
   "outputs": [
    {
     "data": {
      "text/html": [
       "<div>\n",
       "<style scoped>\n",
       "    .dataframe tbody tr th:only-of-type {\n",
       "        vertical-align: middle;\n",
       "    }\n",
       "\n",
       "    .dataframe tbody tr th {\n",
       "        vertical-align: top;\n",
       "    }\n",
       "\n",
       "    .dataframe thead th {\n",
       "        text-align: right;\n",
       "    }\n",
       "</style>\n",
       "<table border=\"1\" class=\"dataframe\">\n",
       "  <thead>\n",
       "    <tr style=\"text-align: right;\">\n",
       "      <th></th>\n",
       "      <th>ano</th>\n",
       "      <th>indicador_rendimento</th>\n",
       "      <th>nota_saeb_media_padronizada</th>\n",
       "      <th>ideb</th>\n",
       "    </tr>\n",
       "  </thead>\n",
       "  <tbody>\n",
       "    <tr>\n",
       "      <th>0</th>\n",
       "      <td>2013</td>\n",
       "      <td>0.881485</td>\n",
       "      <td>5.529359</td>\n",
       "      <td>4.90</td>\n",
       "    </tr>\n",
       "    <tr>\n",
       "      <th>1</th>\n",
       "      <td>2015</td>\n",
       "      <td>0.879882</td>\n",
       "      <td>5.682918</td>\n",
       "      <td>5.00</td>\n",
       "    </tr>\n",
       "    <tr>\n",
       "      <th>2</th>\n",
       "      <td>2017</td>\n",
       "      <td>0.903808</td>\n",
       "      <td>5.764562</td>\n",
       "      <td>5.20</td>\n",
       "    </tr>\n",
       "    <tr>\n",
       "      <th>3</th>\n",
       "      <td>2019</td>\n",
       "      <td>0.938875</td>\n",
       "      <td>5.692353</td>\n",
       "      <td>5.35</td>\n",
       "    </tr>\n",
       "  </tbody>\n",
       "</table>\n",
       "</div>"
      ],
      "text/plain": [
       "    ano  indicador_rendimento  nota_saeb_media_padronizada  ideb\n",
       "0  2013              0.881485                     5.529359  4.90\n",
       "1  2015              0.879882                     5.682918  5.00\n",
       "2  2017              0.903808                     5.764562  5.20\n",
       "3  2019              0.938875                     5.692353  5.35"
      ]
     },
     "execution_count": 14,
     "metadata": {},
     "output_type": "execute_result"
    }
   ],
   "source": [
    "#filtro a tabela do Ideb para o Rio e para o Ensino Fundamental na rede publica\n",
    "#filtro também o ano para corresponder com o anos da outras tabelas\n",
    "\n",
    "ideb=pd.read_csv('ideb.csv')\n",
    "\n",
    "ideb_rio_ef=ideb[(ideb['id_municipio']==3304557)]\n",
    "ideb_rio_ef=ideb_rio_ef[(ideb_rio_ef['ensino']=='fundamental') & (ideb_rio_ef['rede']=='publica')]\n",
    "ideb_rio_ef=ideb_rio_ef[ideb_rio_ef['ano']>=2013]\n",
    "\n",
    "colunas=['ano', 'indicador_rendimento', 'nota_saeb_media_padronizada', 'ideb']\n",
    "\n",
    "ideb_rio_ef=ideb_rio_ef[colunas]\n",
    "\n",
    "ideb_rio_ef=ideb_rio_ef.dropna(axis=0)\n",
    "\n",
    "ideb_rio_ef=ideb_rio_ef.groupby('ano', as_index=False).mean()\n",
    "\n",
    "ideb_rio_ef"
   ]
  },
  {
   "cell_type": "code",
   "execution_count": 15,
   "metadata": {},
   "outputs": [
    {
     "data": {
      "text/html": [
       "<div>\n",
       "<style scoped>\n",
       "    .dataframe tbody tr th:only-of-type {\n",
       "        vertical-align: middle;\n",
       "    }\n",
       "\n",
       "    .dataframe tbody tr th {\n",
       "        vertical-align: top;\n",
       "    }\n",
       "\n",
       "    .dataframe thead th {\n",
       "        text-align: right;\n",
       "    }\n",
       "</style>\n",
       "<table border=\"1\" class=\"dataframe\">\n",
       "  <thead>\n",
       "    <tr style=\"text-align: right;\">\n",
       "      <th></th>\n",
       "      <th>ano</th>\n",
       "      <th>valor</th>\n",
       "      <th>indicador_rendimento</th>\n",
       "      <th>nota_saeb_media_padronizada</th>\n",
       "      <th>ideb</th>\n",
       "    </tr>\n",
       "  </thead>\n",
       "  <tbody>\n",
       "    <tr>\n",
       "      <th>0</th>\n",
       "      <td>2013</td>\n",
       "      <td>2.700569e+09</td>\n",
       "      <td>0.881485</td>\n",
       "      <td>5.529359</td>\n",
       "      <td>4.90</td>\n",
       "    </tr>\n",
       "    <tr>\n",
       "      <th>1</th>\n",
       "      <td>2015</td>\n",
       "      <td>3.120392e+09</td>\n",
       "      <td>0.879882</td>\n",
       "      <td>5.682918</td>\n",
       "      <td>5.00</td>\n",
       "    </tr>\n",
       "    <tr>\n",
       "      <th>2</th>\n",
       "      <td>2017</td>\n",
       "      <td>3.190383e+09</td>\n",
       "      <td>0.903808</td>\n",
       "      <td>5.764562</td>\n",
       "      <td>5.20</td>\n",
       "    </tr>\n",
       "    <tr>\n",
       "      <th>3</th>\n",
       "      <td>2019</td>\n",
       "      <td>3.657024e+09</td>\n",
       "      <td>0.938875</td>\n",
       "      <td>5.692353</td>\n",
       "      <td>5.35</td>\n",
       "    </tr>\n",
       "  </tbody>\n",
       "</table>\n",
       "</div>"
      ],
      "text/plain": [
       "    ano         valor  indicador_rendimento  nota_saeb_media_padronizada  ideb\n",
       "0  2013  2.700569e+09              0.881485                     5.529359  4.90\n",
       "1  2015  3.120392e+09              0.879882                     5.682918  5.00\n",
       "2  2017  3.190383e+09              0.903808                     5.764562  5.20\n",
       "3  2019  3.657024e+09              0.938875                     5.692353  5.35"
      ]
     },
     "execution_count": 15,
     "metadata": {},
     "output_type": "execute_result"
    }
   ],
   "source": [
    "#junto os dados\n",
    "\n",
    "corrdata=siconfi_rio_ef\n",
    "\n",
    "for column in ideb_rio_ef.columns:\n",
    "    if column!='ano':\n",
    "        corrdata=corrdata.join(ideb_rio_ef[column])\n",
    "\n",
    "corrdata"
   ]
  },
  {
   "cell_type": "code",
   "execution_count": 16,
   "metadata": {},
   "outputs": [
    {
     "data": {
      "text/html": [
       "<div>\n",
       "<style scoped>\n",
       "    .dataframe tbody tr th:only-of-type {\n",
       "        vertical-align: middle;\n",
       "    }\n",
       "\n",
       "    .dataframe tbody tr th {\n",
       "        vertical-align: top;\n",
       "    }\n",
       "\n",
       "    .dataframe thead th {\n",
       "        text-align: right;\n",
       "    }\n",
       "</style>\n",
       "<table border=\"1\" class=\"dataframe\">\n",
       "  <thead>\n",
       "    <tr style=\"text-align: right;\">\n",
       "      <th></th>\n",
       "      <th>indicador_rendimento</th>\n",
       "      <th>nota_saeb_media_padronizada</th>\n",
       "      <th>ideb</th>\n",
       "    </tr>\n",
       "  </thead>\n",
       "  <tbody>\n",
       "    <tr>\n",
       "      <th>Despesas Pagas</th>\n",
       "      <td>0.888297</td>\n",
       "      <td>0.672297</td>\n",
       "      <td>0.940511</td>\n",
       "    </tr>\n",
       "  </tbody>\n",
       "</table>\n",
       "</div>"
      ],
      "text/plain": [
       "                indicador_rendimento  nota_saeb_media_padronizada      ideb\n",
       "Despesas Pagas              0.888297                     0.672297  0.940511"
      ]
     },
     "execution_count": 16,
     "metadata": {},
     "output_type": "execute_result"
    }
   ],
   "source": [
    "#manuseio alguns elementos da tabela para realisar a Correlação de Pearson\n",
    "\n",
    "corrdata=corrdata.drop(['ano'], 1)\n",
    "\n",
    "corrdata=corrdata.corrwith(corrdata['valor'])\n",
    "\n",
    "corrdata=pd.DataFrame(corrdata).transpose()\n",
    "\n",
    "corrdata=corrdata.rename(index={0: 'Despesas Pagas'})\n",
    "\n",
    "corrdata=corrdata.drop(['valor'], 1)\n",
    "\n",
    "corrdata"
   ]
  },
  {
   "cell_type": "code",
   "execution_count": 17,
   "metadata": {},
   "outputs": [
    {
     "data": {
      "text/plain": [
       "<AxesSubplot:title={'center':'Correlação entre as Despesas Pagas e os Indicadores Educacionais'}>"
      ]
     },
     "execution_count": 17,
     "metadata": {},
     "output_type": "execute_result"
    },
    {
     "data": {
      "image/png": "[encoded data removed]",
      "text/plain": [
       "<Figure size 432x288 with 2 Axes>"
      ]
     },
     "metadata": {
      "needs_background": "light"
     },
     "output_type": "display_data"
    }
   ],
   "source": [
    "#gráfico de correlação\n",
    "\n",
    "heatmap=sns.heatmap(corrdata, vmin=-1, vmax=1, annot=True)\n",
    "heatmap.set_title(\"Correlação entre as Despesas Pagas e os Indicadores Educacionais\", fontdict={'fontsize':12.5}, pad=20)\n",
    "heatmap"
   ]
  }
 ],
 "metadata": {
  "kernelspec": {
   "display_name": "Python 3.9.10 64-bit",
   "language": "python",
   "name": "python3"
  },
  "language_info": {
   "codemirror_mode": {
    "name": "ipython",
    "version": 3
   },
   "file_extension": ".py",
   "mimetype": "text/x-python",
   "name": "python",
   "nbconvert_exporter": "python",
   "pygments_lexer": "ipython3",
   "version": "3.9.10"
  },
  "orig_nbformat": 4,
  "vscode": {
   "interpreter": {
    "hash": "7fcbe07157c1b3b8993a8bcf56b650e6a442ca8e2c193b390cc5479c8aec347c"
   }
  }
 },
 "nbformat": 4,
 "nbformat_minor": 2
}
