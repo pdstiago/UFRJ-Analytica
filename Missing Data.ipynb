{
 "cells": [
  {
   "cell_type": "code",
   "execution_count": 28,
   "metadata": {},
   "outputs": [],
   "source": [
    "import pandas as pd\n",
    "import numpy as np"
   ]
  },
  {
   "cell_type": "markdown",
   "metadata": {},
   "source": [
    "# Construção das Tabelas que serão Utilizadas (**Ignorar**) "
   ]
  },
  {
   "cell_type": "code",
   "execution_count": 29,
   "metadata": {},
   "outputs": [],
   "source": [
    "linhas = [[\"Tiago\", np.nan], [\"João\", 3.2], [\"Gustavo\", 9.0], [\"Pedro\", np.nan], [\"César\", 6.5], [\"Luís\", np.nan], [\"Mateus\", np.nan], [\"Luca\", 1.7], \n",
    "          [\"Yan\", 5.0]]"
   ]
  },
  {
   "cell_type": "code",
   "execution_count": 30,
   "metadata": {},
   "outputs": [],
   "source": [
    "mcar = pd.DataFrame(linhas, columns=[\"Nome\", \"CR\"])"
   ]
  },
  {
   "cell_type": "code",
   "execution_count": 31,
   "metadata": {},
   "outputs": [],
   "source": [
    "linhas = [[\"Tiago\", 17, np.nan], [\"João\", 18, np.nan], [\"Gustavo\", 18, np.nan], [\"Pedro\", 19, np.nan], [\"César\", 20, np.nan], [\"Luís\", 21, 10.0], [\"Mateus\", 22, 2.5],\n",
    "          [\"Luca\", 22, 1.7], [\"Yan\", 23, 5.0]]"
   ]
  },
  {
   "cell_type": "code",
   "execution_count": 32,
   "metadata": {},
   "outputs": [],
   "source": [
    "mar = pd.DataFrame(linhas, columns=[\"Nome\", \"Idade\", \"CR\"])"
   ]
  },
  {
   "cell_type": "code",
   "execution_count": 33,
   "metadata": {},
   "outputs": [],
   "source": [
    "linhas = [[\"Tiago\", 8.0], [\"João\", np.nan], [\"Gustavo\", 9.0], [\"Pedro\", np.nan], [\"César\", 6.5], [\"Luís\", 10], [\"Mateus\", np.nan], [\"Luca\", 7.5], \n",
    "          [\"Yan\", 5.0]]"
   ]
  },
  {
   "cell_type": "code",
   "execution_count": 34,
   "metadata": {},
   "outputs": [],
   "source": [
    "mnar = pd.DataFrame(linhas, columns=[\"Nome\", \"CR\"])"
   ]
  },
  {
   "cell_type": "markdown",
   "metadata": {},
   "source": [
    "# 1. Introdução\n",
    "## 1.1 O que é ?\n",
    "<p> Valores nulos em bases de dados, também conhecidos como \"Missing Data\", fazem parte de um estudo muito importante para a Ciência de Dados, e equivalem a respostas não obtidas, dados que não conseguiram serem armazenados, ou dados que foram perdidos, antes do armazenamento, em resumo, são informações que são declaradas como nulas nas bases de dados, e, assim, não possível tirar uma conclusão perfeita sobre esse valor. </p>\n",
    "<p> Dado que a maioria dessas bases são representadas como tabelas, as colunas equivalem ao tipo de informação e as linhas, a cada dado obtido, por exemplo em uma base de dados para estudantes de uma faculdade, cada linha iria representar um aluno, e iriam existir diversas colunas, como Curso Estudado, Período, Gênero e etc. Sendo assim, poderíamos ter diversos casos para que valores nulos apareçam, o melhor deles seriam valores isolados, no qual possuiríamos somente alguns alunos com informações faltantes em algumas colunas, porém, existe também a possibilidade de uma coluna inteira estar representada com nula, afetando todas as linhas(alunos) da tabela.</p>\n",
    "\n",
    "## 1.2 Tipos\n",
    "<p> Existem alguns tipos de \"missing data\" que são categorizados através do porquê aquele dado está faltando, e entender cada tipo deles é importante para sabermos como iremos tratar não só os dados com os valores normais, mas também os própios dados nulos. As três categorias estabelecidas são: Faltando Completamente de Forma Aleatória (MCAR), Faltando de Forma Aleatória (MAR), Faltando de Forma Não Aleatória (MNAR).</p>\n",
    "\n",
    "### 1.2.1 Faltando Completamente de Forma Aleatória (MCAR)\n",
    "<p> Nesse tipo, a razão pela qual os valores estão faltando não possuem qualquer tipo de lógica, ou padrão, ou seja, não há relação entre os valores que estão faltando e qualquer outra informação presente na base de dados ou outro valor ausente. Então, nesse tipo não é possível prever os motivos pelo qual as informações estão ausentes. </p>\n",
    "<p> Abaixo está uma tabela, que representa esse tipo de \"missing data\". Cabe afirmar, que não é possível realizar uma análise sobre o motivo dos valores nulos, já que os Nomes que os possuem não se relacionam, e também não há um padrão nos CR's (Coeficiente de Rendimento) que estão informados, já que há baixos, médios e altos. </p>\n"
   ]
  },
  {
   "cell_type": "code",
   "execution_count": 35,
   "metadata": {},
   "outputs": [
    {
     "data": {
      "text/html": [
       "<div>\n",
       "<style scoped>\n",
       "    .dataframe tbody tr th:only-of-type {\n",
       "        vertical-align: middle;\n",
       "    }\n",
       "\n",
       "    .dataframe tbody tr th {\n",
       "        vertical-align: top;\n",
       "    }\n",
       "\n",
       "    .dataframe thead th {\n",
       "        text-align: right;\n",
       "    }\n",
       "</style>\n",
       "<table border=\"1\" class=\"dataframe\">\n",
       "  <thead>\n",
       "    <tr style=\"text-align: right;\">\n",
       "      <th></th>\n",
       "      <th>Nome</th>\n",
       "      <th>CR</th>\n",
       "    </tr>\n",
       "  </thead>\n",
       "  <tbody>\n",
       "    <tr>\n",
       "      <th>0</th>\n",
       "      <td>Tiago</td>\n",
       "      <td>NaN</td>\n",
       "    </tr>\n",
       "    <tr>\n",
       "      <th>1</th>\n",
       "      <td>João</td>\n",
       "      <td>3.2</td>\n",
       "    </tr>\n",
       "    <tr>\n",
       "      <th>2</th>\n",
       "      <td>Gustavo</td>\n",
       "      <td>9.0</td>\n",
       "    </tr>\n",
       "    <tr>\n",
       "      <th>3</th>\n",
       "      <td>Pedro</td>\n",
       "      <td>NaN</td>\n",
       "    </tr>\n",
       "    <tr>\n",
       "      <th>4</th>\n",
       "      <td>César</td>\n",
       "      <td>6.5</td>\n",
       "    </tr>\n",
       "    <tr>\n",
       "      <th>5</th>\n",
       "      <td>Luís</td>\n",
       "      <td>NaN</td>\n",
       "    </tr>\n",
       "    <tr>\n",
       "      <th>6</th>\n",
       "      <td>Mateus</td>\n",
       "      <td>NaN</td>\n",
       "    </tr>\n",
       "    <tr>\n",
       "      <th>7</th>\n",
       "      <td>Luca</td>\n",
       "      <td>1.7</td>\n",
       "    </tr>\n",
       "    <tr>\n",
       "      <th>8</th>\n",
       "      <td>Yan</td>\n",
       "      <td>5.0</td>\n",
       "    </tr>\n",
       "  </tbody>\n",
       "</table>\n",
       "</div>"
      ],
      "text/plain": [
       "      Nome   CR\n",
       "0    Tiago  NaN\n",
       "1     João  3.2\n",
       "2  Gustavo  9.0\n",
       "3    Pedro  NaN\n",
       "4    César  6.5\n",
       "5     Luís  NaN\n",
       "6   Mateus  NaN\n",
       "7     Luca  1.7\n",
       "8      Yan  5.0"
      ]
     },
     "execution_count": 35,
     "metadata": {},
     "output_type": "execute_result"
    }
   ],
   "source": [
    "mcar"
   ]
  },
  {
   "cell_type": "markdown",
   "metadata": {},
   "source": [
    "### 1.2.2 Faltando de Forma Aleatória (MAR)\n",
    "<p> Nessa categoria, o motivo dos valores nulos estão relacionados, somente com as informações observadas (não nulas) da tabela. Abaixo está uma tabela, que possui dados que estão \"Faltando de Forma Aleatória\". É possível criar uma hipótese que todas as pessoas com as idades <= 20, estão com o CR faltando. </p>"
   ]
  },
  {
   "cell_type": "code",
   "execution_count": 36,
   "metadata": {},
   "outputs": [
    {
     "data": {
      "text/html": [
       "<div>\n",
       "<style scoped>\n",
       "    .dataframe tbody tr th:only-of-type {\n",
       "        vertical-align: middle;\n",
       "    }\n",
       "\n",
       "    .dataframe tbody tr th {\n",
       "        vertical-align: top;\n",
       "    }\n",
       "\n",
       "    .dataframe thead th {\n",
       "        text-align: right;\n",
       "    }\n",
       "</style>\n",
       "<table border=\"1\" class=\"dataframe\">\n",
       "  <thead>\n",
       "    <tr style=\"text-align: right;\">\n",
       "      <th></th>\n",
       "      <th>Nome</th>\n",
       "      <th>Idade</th>\n",
       "      <th>CR</th>\n",
       "    </tr>\n",
       "  </thead>\n",
       "  <tbody>\n",
       "    <tr>\n",
       "      <th>0</th>\n",
       "      <td>Tiago</td>\n",
       "      <td>17</td>\n",
       "      <td>NaN</td>\n",
       "    </tr>\n",
       "    <tr>\n",
       "      <th>1</th>\n",
       "      <td>João</td>\n",
       "      <td>18</td>\n",
       "      <td>NaN</td>\n",
       "    </tr>\n",
       "    <tr>\n",
       "      <th>2</th>\n",
       "      <td>Gustavo</td>\n",
       "      <td>18</td>\n",
       "      <td>NaN</td>\n",
       "    </tr>\n",
       "    <tr>\n",
       "      <th>3</th>\n",
       "      <td>Pedro</td>\n",
       "      <td>19</td>\n",
       "      <td>NaN</td>\n",
       "    </tr>\n",
       "    <tr>\n",
       "      <th>4</th>\n",
       "      <td>César</td>\n",
       "      <td>20</td>\n",
       "      <td>NaN</td>\n",
       "    </tr>\n",
       "    <tr>\n",
       "      <th>5</th>\n",
       "      <td>Luís</td>\n",
       "      <td>21</td>\n",
       "      <td>10.0</td>\n",
       "    </tr>\n",
       "    <tr>\n",
       "      <th>6</th>\n",
       "      <td>Mateus</td>\n",
       "      <td>22</td>\n",
       "      <td>2.5</td>\n",
       "    </tr>\n",
       "    <tr>\n",
       "      <th>7</th>\n",
       "      <td>Luca</td>\n",
       "      <td>22</td>\n",
       "      <td>1.7</td>\n",
       "    </tr>\n",
       "    <tr>\n",
       "      <th>8</th>\n",
       "      <td>Yan</td>\n",
       "      <td>23</td>\n",
       "      <td>5.0</td>\n",
       "    </tr>\n",
       "  </tbody>\n",
       "</table>\n",
       "</div>"
      ],
      "text/plain": [
       "      Nome  Idade    CR\n",
       "0    Tiago     17   NaN\n",
       "1     João     18   NaN\n",
       "2  Gustavo     18   NaN\n",
       "3    Pedro     19   NaN\n",
       "4    César     20   NaN\n",
       "5     Luís     21  10.0\n",
       "6   Mateus     22   2.5\n",
       "7     Luca     22   1.7\n",
       "8      Yan     23   5.0"
      ]
     },
     "execution_count": 36,
     "metadata": {},
     "output_type": "execute_result"
    }
   ],
   "source": [
    "mar"
   ]
  },
  {
   "cell_type": "markdown",
   "metadata": {},
   "source": [
    "### 1.2.3 Faltando de Forma Não Aleatória (MNAR)\n",
    "<p> Nesse modelo, o porquê da falta de informações se deve a um comportamento dos próprios dados nulos. Através da tabela abaixo, é viável analisar que CR's abaixo da média (5.0) estão nulos. </p>"
   ]
  },
  {
   "cell_type": "code",
   "execution_count": 37,
   "metadata": {},
   "outputs": [
    {
     "data": {
      "text/html": [
       "<div>\n",
       "<style scoped>\n",
       "    .dataframe tbody tr th:only-of-type {\n",
       "        vertical-align: middle;\n",
       "    }\n",
       "\n",
       "    .dataframe tbody tr th {\n",
       "        vertical-align: top;\n",
       "    }\n",
       "\n",
       "    .dataframe thead th {\n",
       "        text-align: right;\n",
       "    }\n",
       "</style>\n",
       "<table border=\"1\" class=\"dataframe\">\n",
       "  <thead>\n",
       "    <tr style=\"text-align: right;\">\n",
       "      <th></th>\n",
       "      <th>Nome</th>\n",
       "      <th>CR</th>\n",
       "    </tr>\n",
       "  </thead>\n",
       "  <tbody>\n",
       "    <tr>\n",
       "      <th>0</th>\n",
       "      <td>Tiago</td>\n",
       "      <td>8.0</td>\n",
       "    </tr>\n",
       "    <tr>\n",
       "      <th>1</th>\n",
       "      <td>João</td>\n",
       "      <td>NaN</td>\n",
       "    </tr>\n",
       "    <tr>\n",
       "      <th>2</th>\n",
       "      <td>Gustavo</td>\n",
       "      <td>9.0</td>\n",
       "    </tr>\n",
       "    <tr>\n",
       "      <th>3</th>\n",
       "      <td>Pedro</td>\n",
       "      <td>NaN</td>\n",
       "    </tr>\n",
       "    <tr>\n",
       "      <th>4</th>\n",
       "      <td>César</td>\n",
       "      <td>6.5</td>\n",
       "    </tr>\n",
       "    <tr>\n",
       "      <th>5</th>\n",
       "      <td>Luís</td>\n",
       "      <td>10.0</td>\n",
       "    </tr>\n",
       "    <tr>\n",
       "      <th>6</th>\n",
       "      <td>Mateus</td>\n",
       "      <td>NaN</td>\n",
       "    </tr>\n",
       "    <tr>\n",
       "      <th>7</th>\n",
       "      <td>Luca</td>\n",
       "      <td>7.5</td>\n",
       "    </tr>\n",
       "    <tr>\n",
       "      <th>8</th>\n",
       "      <td>Yan</td>\n",
       "      <td>5.0</td>\n",
       "    </tr>\n",
       "  </tbody>\n",
       "</table>\n",
       "</div>"
      ],
      "text/plain": [
       "      Nome    CR\n",
       "0    Tiago   8.0\n",
       "1     João   NaN\n",
       "2  Gustavo   9.0\n",
       "3    Pedro   NaN\n",
       "4    César   6.5\n",
       "5     Luís  10.0\n",
       "6   Mateus   NaN\n",
       "7     Luca   7.5\n",
       "8      Yan   5.0"
      ]
     },
     "execution_count": 37,
     "metadata": {},
     "output_type": "execute_result"
    }
   ],
   "source": [
    "mnar"
   ]
  },
  {
   "cell_type": "markdown",
   "metadata": {},
   "source": [
    "## 1.3 Influência na Análise de Dados e na Criação de Modelos Preditivos\n",
    "<p> </p>"
   ]
  }
 ],
 "metadata": {
  "kernelspec": {
   "display_name": "Python 3.9.13 64-bit",
   "language": "python",
   "name": "python3"
  },
  "language_info": {
   "codemirror_mode": {
    "name": "ipython",
    "version": 3
   },
   "file_extension": ".py",
   "mimetype": "text/x-python",
   "name": "python",
   "nbconvert_exporter": "python",
   "pygments_lexer": "ipython3",
   "version": "3.9.13"
  },
  "orig_nbformat": 4,
  "vscode": {
   "interpreter": {
    "hash": "7fcbe07157c1b3b8993a8bcf56b650e6a442ca8e2c193b390cc5479c8aec347c"
   }
  }
 },
 "nbformat": 4,
 "nbformat_minor": 2
}
